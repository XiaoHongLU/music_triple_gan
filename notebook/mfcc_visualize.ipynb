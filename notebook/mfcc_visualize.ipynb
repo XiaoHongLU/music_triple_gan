{
 "cells": [
  {
   "cell_type": "code",
   "execution_count": 1,
   "metadata": {
    "collapsed": true
   },
   "outputs": [],
   "source": [
    "import numpy as np\n",
    "import pandas as pd\n",
    "import sys\n",
    "from sklearn.preprocessing import normalize"
   ]
  },
  {
   "cell_type": "code",
   "execution_count": 2,
   "metadata": {
    "collapsed": true
   },
   "outputs": [],
   "source": [
    "\n",
    "def extractSpeechData(path):\n",
    "    data = []\n",
    "    data_point = []\n",
    "    file_object = open(path)\n",
    "    if file_object:\n",
    "        i = 0\n",
    "        num_string = str(i) + \":\"\n",
    "        for line in file_object:\n",
    "            data_line = line.split()\n",
    "            if num_string == data_line[0] or \"END\" in data_line:\n",
    "                del data_point[0]\n",
    "                data.append(data_point)\n",
    "                data_point = []\n",
    "                data_point.extend(data_line)\n",
    "                i += 1\n",
    "                num_string = str(i) + \":\"\n",
    "            else:\n",
    "                data_point.extend(data_line)\n",
    "        file_object.close()\n",
    "    else:\n",
    "        print(\"Unable to open Speech Data File\")\n",
    "    del data[0]\n",
    "\n",
    "    converted_file = []\n",
    "    for data_line in data:\n",
    "        converted_data = []\n",
    "        for data_point in data_line:\n",
    "            converted_data.append(float(data_point))\n",
    "        converted_file.append(converted_data)\n",
    "    data = converted_file\n",
    "\n",
    "    check = 0\n",
    "    frame = 0\n",
    "    formed_data = []\n",
    "\n",
    "    for data_feature in data:\n",
    "        formed_data.append(frame)\n",
    "        formed_data.extend(data_feature)\n",
    "        if check == 0:\n",
    "            array_data = np.asarray(formed_data)\n",
    "            check = 1\n",
    "        else:\n",
    "            b = np.asarray(formed_data)\n",
    "            array_data = np.vstack((array_data, b))\n",
    "        frame += 1\n",
    "        formed_data = []\n",
    "    return array_data"
   ]
  },
  {
   "cell_type": "code",
   "execution_count": 3,
   "metadata": {},
   "outputs": [
    {
     "name": "stdout",
     "output_type": "stream",
     "text": [
      "/Users/nlfox/music_triple_gan/notebook\r\n"
     ]
    }
   ],
   "source": [
    "!pwd"
   ]
  },
  {
   "cell_type": "code",
   "execution_count": 4,
   "metadata": {
    "collapsed": true
   },
   "outputs": [],
   "source": [
    "mfcc_data = np.asarray(extractSpeechData(\"/Users/nlfox/american_bach_soloists-j_s__bach__cantatas_volume_v-01-gleichwie_der_regen_und_schnee_vom_himmel_fallt_bwv_18_i_sinfonia-117-146.mp3.txt\"))"
   ]
  },
  {
   "cell_type": "code",
   "execution_count": 5,
   "metadata": {
    "collapsed": true
   },
   "outputs": [],
   "source": [
    "rate = 100\n",
    "\n",
    "def upSampling(feature, rate):\n",
    "    period = len(feature)\n",
    "    period_index = pd.date_range(start='1/1/2000', periods=period, freq='s')\n",
    "    pd_x = pd.DataFrame(feature, index=period_index)\n",
    "\n",
    "    pd_x = pd_x.resample(str(int(rate)) + 's')\n",
    "    pd_x = pd_x.sum()\n",
    "    upsampled_x = pd_x.interpolate(method='cubic')\n",
    "    upsampled_x = upsampled_x.as_matrix().reshape([np.shape(upsampled_x)[0], ])\n",
    "\n",
    "    return upsampled_x"
   ]
  },
  {
   "cell_type": "code",
   "execution_count": 6,
   "metadata": {
    "collapsed": true
   },
   "outputs": [],
   "source": [
    "from matplotlib import pyplot as plt\n",
    "%matplotlib inline"
   ]
  },
  {
   "cell_type": "code",
   "execution_count": null,
   "metadata": {},
   "outputs": [],
   "source": []
  },
  {
   "cell_type": "code",
   "execution_count": 53,
   "metadata": {},
   "outputs": [],
   "source": [
    "rate = 16\n",
    "b = []\n",
    "for n in range(1, len(mfcc_data[0])):\n",
    "    c = upSampling(mfcc_data[:, n], rate)\n",
    "    b.append(c)\n",
    "b = np.asarray(b)\n",
    "b = normalize(np.swapaxes(b,0,1),axis=0)"
   ]
  },
  {
   "cell_type": "code",
   "execution_count": 54,
   "metadata": {},
   "outputs": [
    {
     "data": {
      "text/plain": [
       "(182, 39)"
      ]
     },
     "execution_count": 54,
     "metadata": {},
     "output_type": "execute_result"
    }
   ],
   "source": [
    "b.shape"
   ]
  },
  {
   "cell_type": "code",
   "execution_count": 55,
   "metadata": {},
   "outputs": [
    {
     "data": {
      "text/plain": [
       "[<matplotlib.lines.Line2D at 0x1a1d64f2b0>]"
      ]
     },
     "execution_count": 55,
     "metadata": {},
     "output_type": "execute_result"
    },
    {
     "data": {
      "image/png": "[encoded data removed]",
      "text/plain": [
       "<matplotlib.figure.Figure at 0x1a1d5f5b38>"
      ]
     },
     "metadata": {},
     "output_type": "display_data"
    }
   ],
   "source": [
    "plt.plot(range(mfcc_data.shape[0]),[i[1] for i in mfcc_data])"
   ]
  },
  {
   "cell_type": "code",
   "execution_count": 56,
   "metadata": {},
   "outputs": [
    {
     "data": {
      "text/plain": [
       "[<matplotlib.lines.Line2D at 0x1a1d2067b8>]"
      ]
     },
     "execution_count": 56,
     "metadata": {},
     "output_type": "execute_result"
    },
    {
     "data": {
      "image/png": "[encoded data removed]",
      "text/plain": [
       "<matplotlib.figure.Figure at 0x116cd2b00>"
      ]
     },
     "metadata": {},
     "output_type": "display_data"
    }
   ],
   "source": [
    "plt.plot(range(b.shape[0]),[i[0] for i in b])"
   ]
  },
  {
   "cell_type": "code",
   "execution_count": 17,
   "metadata": {},
   "outputs": [
    {
     "data": {
      "text/plain": [
       "array([  0.   , -13.087,   7.458,  -5.491,   2.982,   0.123,   4.196,\n",
       "        -2.236,   7.521,  -0.076,  -3.084,   0.556,   6.642,  -0.151,\n",
       "         1.801,  -1.697,   1.338,  -0.977,   1.582,   0.623,   0.906,\n",
       "         2.316,  -0.494,   0.871,   2.005,  -0.69 ,   0.   ,  -0.076,\n",
       "        -0.098,  -0.073,  -0.218,  -0.073,  -0.078,   0.052,  -0.11 ,\n",
       "         0.185,  -0.124,  -0.286,   0.216,   0.   ])"
      ]
     },
     "execution_count": 17,
     "metadata": {},
     "output_type": "execute_result"
    }
   ],
   "source": [
    "mfcc_data[0]"
   ]
  },
  {
   "cell_type": "code",
   "execution_count": null,
   "metadata": {
    "collapsed": true
   },
   "outputs": [],
   "source": []
  },
  {
   "cell_type": "code",
   "execution_count": 64,
   "metadata": {},
   "outputs": [
    {
     "data": {
      "text/plain": [
       "(182, 40)"
      ]
     },
     "execution_count": 64,
     "metadata": {},
     "output_type": "execute_result"
    }
   ],
   "source": [
    "b.shape"
   ]
  },
  {
   "cell_type": "code",
   "execution_count": null,
   "metadata": {
    "collapsed": true
   },
   "outputs": [],
   "source": [
    "\n",
    "\n",
    "\n",
    "\n",
    "\n",
    "if __name__ == \"__main__\":\n",
    "    for arg in sys.argv[1:]:\n",
    "        a = np.asarray(extractSpeechData(arg))\n",
    "        b = np.empty([30, ])\n",
    "        for n in range(1, len(a[0])):\n",
    "            c = upSampling(a[:, n], rate)\n",
    "            b = np.column_stack((b, c))\n",
    "        b = normalize(b, axis=0)\n",
    "        np.save(arg, b[:, 1:])"
   ]
  }
 ],
 "metadata": {
  "kernelspec": {
   "display_name": "Python 3",
   "language": "python",
   "name": "python3"
  },
  "language_info": {
   "codemirror_mode": {
    "name": "ipython",
    "version": 3
   },
   "file_extension": ".py",
   "mimetype": "text/x-python",
   "name": "python",
   "nbconvert_exporter": "python",
   "pygments_lexer": "ipython3",
   "version": "3.6.3"
  }
 },
 "nbformat": 4,
 "nbformat_minor": 2
}
